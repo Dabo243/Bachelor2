{
 "cells": [
  {
   "cell_type": "code",
   "execution_count": 7,
   "id": "1ed4fd17",
   "metadata": {},
   "outputs": [
    {
     "name": "stdout",
     "output_type": "stream",
     "text": [
      "First 5 authors:\n",
      "               author\n",
      "0            @Aslan46\n",
      "1        @alekshe6908\n",
      "2    @MichaelSchwenke\n",
      "3    @MichaelSchwenke\n",
      "4  @FrankfurtAller.99\n",
      "\n",
      "Total comments: 91562\n",
      "Unique authors: 61523\n",
      "\n",
      "Saved author data to authors_only.csv\n"
     ]
    }
   ],
   "source": [
    "import pandas as pd\n",
    "\n",
    "# Read only the 'author' column from the CSV file for memory efficiency\n",
    "df = pd.read_csv('youtube_fussball_comments.csv', usecols=['author'])\n",
    "\n",
    "# Display the first few rows\n",
    "print(\"First 5 authors:\")\n",
    "print(df.head())\n",
    "\n",
    "# Count total and unique authors\n",
    "total_authors = len(df)\n",
    "unique_authors = df['author'].nunique()\n",
    "print(f\"\\nTotal comments: {total_authors}\")\n",
    "print(f\"Unique authors: {unique_authors}\")\n",
    "\n",
    "# Save to a new CSV file with just the author column\n",
    "output_file = 'authors_only.csv'\n",
    "df.to_csv(output_file, index=False)\n",
    "print(f\"\\nSaved author data to {output_file}\")"
   ]
  },
  {
   "cell_type": "code",
   "execution_count": 8,
   "id": "03a6d06e",
   "metadata": {},
   "outputs": [
    {
     "name": "stdout",
     "output_type": "stream",
     "text": [
      "Original data preview:\n",
      "   Unnamed: 0              name      demographic\n",
      "0           0            author  US_35-44_female\n",
      "1           1          @Aslan46    TR_25-34_male\n",
      "2           2      @alekshe6908              NaN\n",
      "3           3  @MichaelSchwenke              NaN\n",
      "4           4  @MichaelSchwenke              NaN\n",
      "Note: Found 3267 entries containing both 'male' and 'female'\n",
      "These entries will be classified based on context priority (female takes precedence)\n",
      "\n",
      "Classification results:\n",
      "       demographic gender_class\n",
      "0  US_35-44_female       female\n",
      "1    TR_25-34_male         male\n",
      "2              nan    undefined\n",
      "3              nan    undefined\n",
      "4              nan    undefined\n",
      "5              nan    undefined\n",
      "6              nan    undefined\n",
      "7              nan    undefined\n",
      "8              nan    undefined\n",
      "9              nan    undefined\n",
      "\n",
      "Gender classification counts:\n",
      "gender_class\n",
      "undefined    78544\n",
      "male          9752\n",
      "female        3267\n",
      "Name: count, dtype: int64\n",
      "\n",
      "Gender classification percentages:\n",
      "undefined: 85.78%\n",
      "male: 10.65%\n",
      "female: 3.57%\n"
     ]
    },
    {
     "name": "stderr",
     "output_type": "stream",
     "text": [
      "C:\\Users\\danie\\AppData\\Local\\Temp\\ipykernel_7468\\1164807796.py:57: FutureWarning: \n",
      "\n",
      "Passing `palette` without assigning `hue` is deprecated and will be removed in v0.14.0. Assign the `x` variable to `hue` and set `legend=False` for the same effect.\n",
      "\n",
      "  sns.countplot(x='gender_class', data=df, palette='viridis')\n"
     ]
    },
    {
     "data": {
      "image/png": "[encoded data removed]",
      "text/plain": [
       "<Figure size 1000x600 with 1 Axes>"
      ]
     },
     "metadata": {},
     "output_type": "display_data"
    }
   ],
   "source": [
    "import pandas as pd\n",
    "import matplotlib.pyplot as plt\n",
    "import seaborn as sns\n",
    "\n",
    "# Read the CSV file containing the prediction results\n",
    "df = pd.read_csv('Prediction Result.csv')\n",
    "\n",
    "# Display the first few rows to see the structure\n",
    "print(\"Original data preview:\")\n",
    "print(df.head())\n",
    "\n",
    "# Check if the demographic column exists\n",
    "if 'demographic' not in df.columns:\n",
    "    print(\"Error: 'demographic' column not found in the CSV file\")\n",
    "else:\n",
    "    # Create a new column for the simplified classification\n",
    "    df['gender_class'] = 'undefined'\n",
    "    \n",
    "    # Apply the classification rules:\n",
    "    # 1. If 'demographic' contains 'male', classify as 'male'\n",
    "    # 2. If 'demographic' contains 'female', classify as 'female'\n",
    "    # 3. Otherwise, classify as 'undefined'\n",
    "    \n",
    "    # Convert demographic column to string type to ensure .str methods work\n",
    "    df['demographic'] = df['demographic'].astype(str)\n",
    "    \n",
    "    # Apply the classification logic\n",
    "    df.loc[df['demographic'].str.contains('male', case=False, na=False), 'gender_class'] = 'male'\n",
    "    df.loc[df['demographic'].str.contains('female', case=False, na=False), 'gender_class'] = 'female'\n",
    "    \n",
    "    # Handle potential cases where both 'male' and 'female' are present\n",
    "    # In this case, let's prioritize the longest matching string\n",
    "    male_and_female = (df['demographic'].str.contains('male', case=False, na=False)) & \\\n",
    "                     (df['demographic'].str.contains('female', case=False, na=False))\n",
    "    \n",
    "    if male_and_female.any():\n",
    "        print(f\"Note: Found {male_and_female.sum()} entries containing both 'male' and 'female'\")\n",
    "        print(\"These entries will be classified based on context priority (female takes precedence)\")\n",
    "    \n",
    "    # Display the results\n",
    "    print(\"\\nClassification results:\")\n",
    "    print(df[['demographic', 'gender_class']].head(10))\n",
    "    \n",
    "    # Count the occurrences of each class\n",
    "    gender_counts = df['gender_class'].value_counts()\n",
    "    print(\"\\nGender classification counts:\")\n",
    "    print(gender_counts)\n",
    "    \n",
    "    # Calculate percentages\n",
    "    gender_percentages = gender_counts / len(df) * 100\n",
    "    print(\"\\nGender classification percentages:\")\n",
    "    for gender, percentage in gender_percentages.items():\n",
    "        print(f\"{gender}: {percentage:.2f}%\")\n",
    "    \n",
    "    # Create a visualization of the distribution\n",
    "    plt.figure(figsize=(10, 6))\n",
    "    sns.countplot(x='gender_class', data=df, palette='viridis')\n",
    "    plt.title('Gender Classification Distribution')\n",
    "    plt.xlabel('Gender Class')\n",
    "    plt.ylabel('Count')\n",
    "    plt.xticks(rotation=0)\n",
    "    plt.tight_layout()\n",
    "    plt.show()\n",
    "    \n",
    "    # Optional: Save the results to a new CSV file\n",
    "    # df.to_csv('gender_classified_results.csv', index=False)"
   ]
  }
 ],
 "metadata": {
  "kernelspec": {
   "display_name": "torch_env",
   "language": "python",
   "name": "python3"
  },
  "language_info": {
   "codemirror_mode": {
    "name": "ipython",
    "version": 3
   },
   "file_extension": ".py",
   "mimetype": "text/x-python",
   "name": "python",
   "nbconvert_exporter": "python",
   "pygments_lexer": "ipython3",
   "version": "3.12.3"
  }
 },
 "nbformat": 4,
 "nbformat_minor": 5
}
